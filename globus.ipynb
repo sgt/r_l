{
 "metadata": {
  "name": "",
  "signature": "sha256:d7960fe699f86ff53391ca39233cc06ca29980b5581a4a23e4f04e10b1dfc68e"
 },
 "nbformat": 3,
 "nbformat_minor": 0,
 "worksheets": [
  {
   "cells": [
    {
     "cell_type": "heading",
     "level": 1,
     "metadata": {},
     "source": [
      "\u0421\u0442\u0430\u0442\u0438\u0441\u0442\u0438\u043a\u0430 \u043f\u0440\u043e \u0433\u043b\u043e\u0431\u0443\u0441"
     ]
    },
    {
     "cell_type": "markdown",
     "metadata": {},
     "source": [
      "\u0421\u0447\u0438\u0442\u044b\u0432\u0430\u0435\u043c \u0441\u0442\u0430\u0442\u0438\u0441\u0442\u0438\u043a\u0443 \u0432 \u043c\u0430\u0441\u0441\u0438\u0432 entries \u0432 \u0444\u043e\u0440\u043c\u0430\u0442\u0435 [\u043e\u0442\u0432\u0435\u0442, \u0434\u0440\u0443\u0437\u044c\u044f].\n",
      "\n",
      "* \u043e\u0442\u0432\u0435\u0442: 1 - \u0434\u0430, 0 - \u043d\u0435\u0442\n",
      "* \u0434\u0440\u0443\u0437\u044c\u044f: 0 - \u0432\u0437\u0430\u0438\u043c\u043d\u044b\u0435 \u0434\u0440\u0443\u0437\u044c\u044f, N>0 - \u043a\u043e\u043b\u0438\u0447\u0435\u0441\u0442\u0432\u043e \u043e\u0431\u0449\u0438\u0445 \u0434\u0440\u0443\u0437\u0435\u0439"
     ]
    },
    {
     "cell_type": "code",
     "collapsed": false,
     "input": [
      "import re\n",
      "\n",
      "R_YES = re.compile('\u0414\u0410')\n",
      "R_NO = re.compile('\u041d\u0415\u0422')\n",
      "R_FRIENDS_PLUS_1 = re.compile('\u0414\u0440\u0443\u0436\u0438\u0442 \u0441 .+ \u0438 \u0435\u0449\u0435 (\\d+)')\n",
      "R_FRIENDS = re.compile('(\\d+) \u043e\u0431\u0449.{2} \u0434\u0440\u0443')\n",
      "R_SEPARATOR = re.compile('\u041d\u0440\u0430\u0432\u0438\u0442\u0441\u044f \u00b7 \u041e\u0442\u0432\u0435\u0442\u0438\u0442\u044c.*\\n')\n",
      "\n",
      "\n",
      "def extract_entry(raw_entry):\n",
      "    \"\"\"\n",
      "    Extract data from entry.\n",
      "    :param raw_entry: raw entry\n",
      "    :return: [answer (1/0), friends (0 = mutual)]\n",
      "    \"\"\"\n",
      "    answer = -1\n",
      "    friends = 0\n",
      "    if re.search(R_YES, raw_entry):\n",
      "        answer = 1\n",
      "    elif re.search(R_NO, raw_entry):\n",
      "        answer = 0\n",
      "\n",
      "    m = re.search(R_FRIENDS_PLUS_1, raw_entry)\n",
      "    if m:\n",
      "        friends = int(m.group(1)) + 1\n",
      "    else:\n",
      "        m = re.search(R_FRIENDS, raw_entry)\n",
      "        if m:\n",
      "            friends = int(m.group(1))\n",
      "\n",
      "    return (answer, friends) if answer >= 0 else None\n",
      "\n",
      "\n",
      "with open('globus.txt', 'r', encoding='utf-8') as f:\n",
      "    contents = f.read()\n",
      "    f.close()\n",
      "\n",
      "raw_entries = re.split(R_SEPARATOR, contents)\n",
      "calculated_entries = [extract_entry(x) for x in raw_entries]\n",
      "entries = [x for x in calculated_entries if x is not None]"
     ],
     "language": "python",
     "metadata": {},
     "outputs": [],
     "prompt_number": 1
    },
    {
     "cell_type": "markdown",
     "metadata": {},
     "source": [
      "\u0421\u0442\u0440\u043e\u0438\u043c \u0433\u0440\u0430\u0444\u0438\u043a\u0438"
     ]
    },
    {
     "cell_type": "code",
     "collapsed": false,
     "input": [
      "%matplotlib inline\n",
      "#import cufflinks as cf\n",
      "import pandas as pd\n",
      "import numpy as np\n",
      "\n",
      "\n",
      "\n",
      "df = pd.DataFrame(entries, columns=['answer', 'friends'])\n",
      "df.plot(kind='bar')\n",
      "\n",
      "#answers = [x[0] for x in entries]\n",
      "#friends = [x[1] for x in entries]\n"
     ],
     "language": "python",
     "metadata": {},
     "outputs": [
      {
       "metadata": {},
       "output_type": "pyout",
       "prompt_number": 8,
       "text": [
        "<matplotlib.axes.AxesSubplot at 0x7fec668340f0>"
       ]
      },
      {
       "metadata": {},
       "output_type": "display_data",
       "png": "[encoded data removed]",
       "text": [
        "<matplotlib.figure.Figure at 0x7fec66257eb8>"
       ]
      }
     ],
     "prompt_number": 8
    }
   ],
   "metadata": {}
  }
 ]
}