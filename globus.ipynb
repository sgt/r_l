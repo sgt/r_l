{
 "worksheets": [
  {
   "cells": [
    {
     "cell_type": "heading",
     "metadata": {},
     "level": 1,
     "source": [
      "Статистика про глобус"
     ]
    },
    {
     "cell_type": "markdown",
     "metadata": {},
     "source": [
      "Считываем статистику в массив entries в формате [ответ, друзья].\n",
      "\n",
      "* ответ: 1 - да, 0 - нет\n",
      "* друзья: 0 - взаимные друзья, N>0 - количество общих друзей"
     ]
    },
    {
     "cell_type": "code",
     "execution_count": null,
     "metadata": {},
     "outputs": [],
     "input": [
      "import re\n",
      "\n",
      "R_YES = re.compile('ДА')\n",
      "R_NO = re.compile('НЕТ')\n",
      "R_FRIENDS_PLUS_1 = re.compile('Дружит с .+ и еще (\\d+)')\n",
      "R_FRIENDS = re.compile('(\\d+) общ.{2} дру')\n",
      "R_SEPARATOR = re.compile('Нравится · Ответить.*\\n')\n",
      "\n",
      "\n",
      "def extract_entry(raw_entry):\n",
      "    \"\"\"\n",
      "    Extract data from entry.\n",
      "    :param raw_entry: raw entry\n",
      "    :return: [answer (1/0), friends (0 = mutual)]\n",
      "    \"\"\"\n",
      "    answer = -1\n",
      "    friends = 0\n",
      "    if re.search(R_YES, raw_entry):\n",
      "        answer = 1\n",
      "    elif re.search(R_NO, raw_entry):\n",
      "        answer = 0\n",
      "\n",
      "    m = re.search(R_FRIENDS_PLUS_1, raw_entry)\n",
      "    if m:\n",
      "        friends = int(m.group(1)) + 1\n",
      "    else:\n",
      "        m = re.search(R_FRIENDS, raw_entry)\n",
      "        if m:\n",
      "            friends = int(m.group(1))\n",
      "\n",
      "    return (answer, friends) if answer >= 0 else None\n",
      "\n",
      "\n",
      "with open('globus.txt', 'r', encoding='utf-8') as f:\n",
      "    contents = f.read()\n",
      "    f.close()\n",
      "\n",
      "raw_entries = re.split(R_SEPARATOR, contents)\n",
      "calculated_entries = [extract_entry(x) for x in raw_entries]\n",
      "entries = [x for x in calculated_entries if x is not None]"
     ],
     "language": "python",
     "prompt_number": 15
    },
    {
     "cell_type": "heading",
     "metadata": {},
     "level": 2,
     "source": [
      "Строим графики"
     ]
    },
    {
     "cell_type": "markdown",
     "metadata": {},
     "source": [
      "Доля положительных ответов по отношению к порядку общих друзей (натуральный логарифм). 0 = взаимные друзья."
     ]
    },
    {
     "cell_type": "code",
     "execution_count": null,
     "metadata": {},
     "outputs": [
      {
       "output_type": "pyout",
       "prompt_number": 54,
       "text": [
        "<matplotlib.axes._subplots.AxesSubplot at 0x2050ef0dfd0>"
       ],
       "metadata": {}
      },
      {
       "output_type": "display_data",
       "png": "[encoded data removed]",
       "text": [
        "<matplotlib.figure.Figure at 0x2050eef2f60>"
       ],
       "metadata": {}
      }
     ],
     "input": [
      "% matplotlib inline\n",
      "#import cufflinks as cf\n",
      "import pandas as pd\n",
      "import numpy as np\n",
      "import math\n",
      "\n",
      "df = pd.DataFrame(entries, columns=['answer', 'friends'])\n",
      "df['friends_log'] = df['friends'].apply(lambda x: 0 if x == 0 else int(math.log(x) + 1))\n",
      "mean_by_friends = df[['answer', 'friends_log']].groupby('friends_log').mean()\n",
      "mean_by_friends.plot(kind='bar')\n"
     ],
     "language": "python",
     "prompt_number": 54
    },
    {
     "cell_type": "markdown",
     "metadata": {},
     "source": [
      "То же самое, но log(10)+1. По оси Х - 0=взаимные друзья, 1=единицы общих друзей, 2=десятки, 3=сотни."
     ]
    },
    {
     "cell_type": "code",
     "execution_count": null,
     "metadata": {},
     "outputs": [
      {
       "output_type": "pyout",
       "prompt_number": 55,
       "text": [
        "<matplotlib.axes._subplots.AxesSubplot at 0x2050ef26208>"
       ],
       "metadata": {}
      },
      {
       "output_type": "display_data",
       "png": "[encoded data removed]",
       "text": [
        "<matplotlib.figure.Figure at 0x2050eeed1d0>"
       ],
       "metadata": {}
      }
     ],
     "input": [
      "df['friends_log_10'] = df['friends'].apply(lambda x: 0 if x == 0 else int(math.log(x, 10) + 1))\n",
      "mean_by_friends_10 = df[['answer', 'friends_log_10']].groupby('friends_log_10').mean()\n",
      "mean_by_friends_10.plot(kind='bar')"
     ],
     "language": "python",
     "prompt_number": 55
    }
   ]
  }
 ],
 "cells": [],
 "metadata": {
  "signature": "sha256:d7960fe699f86ff53391ca39233cc06ca29980b5581a4a23e4f04e10b1dfc68e"
 },
 "nbformat": 3,
 "nbformat_minor": 0
}