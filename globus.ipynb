{
 "worksheets": [
  {
   "cells": [
    {
     "cell_type": "heading",
     "metadata": {},
     "level": 1,
     "source": [
      "Статистика про глобус"
     ]
    },
    {
     "cell_type": "markdown",
     "metadata": {},
     "source": [
      "Считываем статистику в массив entries в формате [ответ, друзья].\n",
      "\n",
      "* ответ: 1 - да, 0 - нет\n",
      "* друзья: 0 - взаимные друзья, N>0 - количество общих друзей"
     ]
    },
    {
     "cell_type": "code",
     "execution_count": null,
     "metadata": {},
     "outputs": [],
     "input": [
      "import re\n",
      "\n",
      "R_YES = re.compile('ДА')\n",
      "R_NO = re.compile('НЕТ')\n",
      "R_FRIENDS_PLUS_1 = re.compile('Дружит с .+ и еще (\\d+)')\n",
      "R_FRIENDS = re.compile('(\\d+) общ.{2} дру')\n",
      "R_SEPARATOR = re.compile('Нравится · Ответить.*\\n')\n",
      "\n",
      "\n",
      "def extract_entry(raw_entry):\n",
      "    \"\"\"\n",
      "    Extract data from entry.\n",
      "    :param raw_entry: raw entry\n",
      "    :return: [answer (1/0), friends (0 = mutual)]\n",
      "    \"\"\"\n",
      "    answer = -1\n",
      "    friends = 0\n",
      "    if re.search(R_YES, raw_entry):\n",
      "        answer = 1\n",
      "    elif re.search(R_NO, raw_entry):\n",
      "        answer = 0\n",
      "\n",
      "    m = re.search(R_FRIENDS_PLUS_1, raw_entry)\n",
      "    if m:\n",
      "        friends = int(m.group(1)) + 1\n",
      "    else:\n",
      "        m = re.search(R_FRIENDS, raw_entry)\n",
      "        if m:\n",
      "            friends = int(m.group(1))\n",
      "\n",
      "    return (answer, friends) if answer >= 0 else None\n",
      "\n",
      "\n",
      "with open('globus.txt', 'r', encoding='utf-8') as f:\n",
      "    contents = f.read()\n",
      "    f.close()\n",
      "\n",
      "raw_entries = re.split(R_SEPARATOR, contents)\n",
      "calculated_entries = [extract_entry(x) for x in raw_entries]\n",
      "entries = [x for x in calculated_entries if x is not None]"
     ],
     "language": "python",
     "prompt_number": 5
    },
    {
     "cell_type": "markdown",
     "metadata": {},
     "source": [
      "Строим графики"
     ]
    },
    {
     "cell_type": "code",
     "execution_count": null,
     "metadata": {},
     "outputs": [
      {
       "ename": "AttributeError",
       "evalue": "'DataFrame' object has no attribute 'show'",
       "output_type": "pyerr",
       "traceback": [
        "\u001b[1;31m---------------------------------------------------------------------------\u001b[0m\n\u001b[1;31mAttributeError\u001b[0m                            Traceback (most recent call last)",
        "\u001b[1;32m<ipython-input-10-9900cc9f83db>\u001b[0m in \u001b[0;36m<module>\u001b[1;34m()\u001b[0m\n\u001b[0;32m      4\u001b[0m \u001b[1;33m\u001b[0m\u001b[0m\n\u001b[0;32m      5\u001b[0m \u001b[0mdf\u001b[0m \u001b[1;33m=\u001b[0m \u001b[0mpd\u001b[0m\u001b[1;33m.\u001b[0m\u001b[0mDataFrame\u001b[0m\u001b[1;33m(\u001b[0m\u001b[0mnp\u001b[0m\u001b[1;33m.\u001b[0m\u001b[0mrandom\u001b[0m\u001b[1;33m.\u001b[0m\u001b[0mrand\u001b[0m\u001b[1;33m(\u001b[0m\u001b[1;36m10\u001b[0m\u001b[1;33m,\u001b[0m \u001b[1;36m4\u001b[0m\u001b[1;33m)\u001b[0m\u001b[1;33m,\u001b[0m \u001b[0mcolumns\u001b[0m\u001b[1;33m=\u001b[0m\u001b[1;33m[\u001b[0m\u001b[1;34m'A'\u001b[0m\u001b[1;33m,\u001b[0m \u001b[1;34m'B'\u001b[0m\u001b[1;33m,\u001b[0m \u001b[1;34m'C'\u001b[0m\u001b[1;33m,\u001b[0m \u001b[1;34m'D'\u001b[0m\u001b[1;33m]\u001b[0m\u001b[1;33m)\u001b[0m\u001b[1;33m\u001b[0m\u001b[0m\n\u001b[1;32m----> 6\u001b[1;33m \u001b[0mdf\u001b[0m\u001b[1;33m.\u001b[0m\u001b[0mshow\u001b[0m\u001b[1;33m(\u001b[0m\u001b[1;33m)\u001b[0m\u001b[1;33m\u001b[0m\u001b[0m\n\u001b[0m\u001b[0;32m      7\u001b[0m \u001b[1;33m\u001b[0m\u001b[0m\n\u001b[0;32m      8\u001b[0m \u001b[0manswers\u001b[0m \u001b[1;33m=\u001b[0m \u001b[1;33m[\u001b[0m\u001b[0mx\u001b[0m\u001b[1;33m[\u001b[0m\u001b[1;36m0\u001b[0m\u001b[1;33m]\u001b[0m \u001b[1;32mfor\u001b[0m \u001b[0mx\u001b[0m \u001b[1;32min\u001b[0m \u001b[0mentries\u001b[0m\u001b[1;33m]\u001b[0m\u001b[1;33m\u001b[0m\u001b[0m\n",
        "\u001b[1;32mC:\\Anaconda3\\lib\\site-packages\\pandas\\core\\generic.py\u001b[0m in \u001b[0;36m__getattr__\u001b[1;34m(self, name)\u001b[0m\n\u001b[0;32m   1841\u001b[0m                 \u001b[1;32mreturn\u001b[0m \u001b[0mself\u001b[0m\u001b[1;33m[\u001b[0m\u001b[0mname\u001b[0m\u001b[1;33m]\u001b[0m\u001b[1;33m\u001b[0m\u001b[0m\n\u001b[0;32m   1842\u001b[0m             raise AttributeError(\"'%s' object has no attribute '%s'\" %\n\u001b[1;32m-> 1843\u001b[1;33m                                  (type(self).__name__, name))\n\u001b[0m\u001b[0;32m   1844\u001b[0m \u001b[1;33m\u001b[0m\u001b[0m\n\u001b[0;32m   1845\u001b[0m     \u001b[1;32mdef\u001b[0m \u001b[0m__setattr__\u001b[0m\u001b[1;33m(\u001b[0m\u001b[0mself\u001b[0m\u001b[1;33m,\u001b[0m \u001b[0mname\u001b[0m\u001b[1;33m,\u001b[0m \u001b[0mvalue\u001b[0m\u001b[1;33m)\u001b[0m\u001b[1;33m:\u001b[0m\u001b[1;33m\u001b[0m\u001b[0m\n",
        "\u001b[1;31mAttributeError\u001b[0m: 'DataFrame' object has no attribute 'show'"
       ]
      }
     ],
     "input": [
      "import cufflinks as cf\n",
      "import pandas as pd\n",
      "import numpy as np\n",
      "\n",
      "\n",
      "df = pd.DataFrame(np.random.rand(10, 4), columns=['A', 'B', 'C', 'D'])\n",
      "df.\n",
      "\n",
      "answers = [x[0] for x in entries]\n",
      "friends = [x[1] for x in entries]\n"
     ],
     "language": "python",
     "prompt_number": 10
    }
   ]
  }
 ],
 "cells": [],
 "metadata": {
  "signature": "sha256:d7960fe699f86ff53391ca39233cc06ca29980b5581a4a23e4f04e10b1dfc68e"
 },
 "nbformat": 3,
 "nbformat_minor": 0
}